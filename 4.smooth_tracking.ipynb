{
 "cells": [
  {
   "cell_type": "code",
   "execution_count": 1,
   "metadata": {
    "scrolled": true
   },
   "outputs": [],
   "source": [
    "import argparse\n",
    "import os\n",
    "import sys\n",
    "import cv2\n",
    "import numpy as np\n",
    "import glob\n",
    "import matplotlib.pyplot as plt\n",
    "import matplotlib\n",
    "from PIL import Image, ImageOps\n",
    "import pandas as pd\n",
    "from tqdm import tqdm\n",
    "import json\n",
    "import copy\n",
    "from utils import *"
   ]
  },
  {
   "cell_type": "code",
   "execution_count": 2,
   "metadata": {
    "scrolled": true
   },
   "outputs": [],
   "source": [
    "with open('./data/pano_tracks_2.json', 'r') as f:\n",
    "    pano_tracks = json.load(f)\n",
    "    \n",
    "with open('./data/pano_bridges_2.json', 'r') as f:\n",
    "    pano_bridges = json.load(f)    "
   ]
  },
  {
   "cell_type": "code",
   "execution_count": 3,
   "metadata": {},
   "outputs": [],
   "source": [
    "n_frames = len(pano_tracks)"
   ]
  },
  {
   "cell_type": "code",
   "execution_count": 4,
   "metadata": {},
   "outputs": [],
   "source": [
    "tracking_raw = {}\n",
    "for frame in pano_tracks:\n",
    "    for instance in pano_tracks[frame]:\n",
    "        location = instance[:2]\n",
    "        track_id = instance[2]\n",
    "        if track_id not in list(tracking_raw.keys()):\n",
    "            tracking_raw[track_id] = []\n",
    "            tracking_raw[track_id].append([float(location[0]),float(location[1]),int(frame)])\n",
    "        else:\n",
    "            tracking_raw[track_id].append([float(location[0]),float(location[1]),int(frame)])"
   ]
  },
  {
   "cell_type": "code",
   "execution_count": 5,
   "metadata": {
    "scrolled": true
   },
   "outputs": [],
   "source": [
    "from scipy.ndimage.filters import gaussian_filter1d\n",
    "\n",
    "tracking_sm = {}\n",
    "for k in tracking_raw:\n",
    "    location = tracking_raw[k]\n",
    "    if len(location)>5:\n",
    "        location = np.stack(location)\n",
    "        location[:,0] = gaussian_filter1d(location[:,0],0.5)\n",
    "        location[:,1] = gaussian_filter1d(location[:,1],0.5)\n",
    "        tracking_sm[k] = location\n",
    "    else:\n",
    "        tracking_sm[k] = location"
   ]
  },
  {
   "cell_type": "code",
   "execution_count": 6,
   "metadata": {},
   "outputs": [],
   "source": [
    "tracking = {k:[] for k in range(2,n_frames+2)}"
   ]
  },
  {
   "cell_type": "code",
   "execution_count": 7,
   "metadata": {},
   "outputs": [],
   "source": [
    "for k in tracking_sm:\n",
    "    track_id = k\n",
    "    for t in tracking_sm[k]:\n",
    "        frame = int(t[2])\n",
    "        tracking[frame].append([t[0],t[1],track_id])"
   ]
  },
  {
   "cell_type": "code",
   "execution_count": 10,
   "metadata": {},
   "outputs": [],
   "source": [
    "with open('./data/video_1_pano_smooth_2.json', 'w') as fp:\n",
    "    json.dump(tracking, fp)\n",
    "    \n",
    "with open('./data/video_1_single_smooth_2.json', 'w') as fp:\n",
    "    json.dump(pano_bridges, fp)"
   ]
  }
 ],
 "metadata": {
  "kernelspec": {
   "display_name": "Python 3",
   "language": "python",
   "name": "python3"
  },
  "language_info": {
   "codemirror_mode": {
    "name": "ipython",
    "version": 3
   },
   "file_extension": ".py",
   "mimetype": "text/x-python",
   "name": "python",
   "nbconvert_exporter": "python",
   "pygments_lexer": "ipython3",
   "version": "3.7.3"
  }
 },
 "nbformat": 4,
 "nbformat_minor": 2
}
